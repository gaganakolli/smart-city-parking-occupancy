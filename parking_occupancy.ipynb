{
 "cells": [
  {
   "cell_type": "code",
   "execution_count": null,
   "metadata": {},
   "outputs": [],
   "source": [
    "# Suppress TensorFlow and CUDA warnings\n",
    "import os\n",
    "import logging\n",
    "import tensorflow as tf\n",
    "\n",
    "os.environ['TF_CPP_MIN_LOG_LEVEL'] = '3'\n",
    "logging.getLogger('tensorflow').setLevel(logging.FATAL)\n",
    "tf.get_logger().setLevel('ERROR')\n",
    "import absl.logging\n",
    "absl.logging.set_verbosity(absl.logging.ERROR)\n"
   ]
  },
  {
   "cell_type": "code",
   "execution_count": null,
   "metadata": {},
   "outputs": [],
   "source": [
    "# Import libraries\n",
    "import os\n",
    "import cv2\n",
    "import numpy as np\n",
    "from sklearn.model_selection import train_test_split\n",
    "from tensorflow.keras.models import Sequential, load_model\n",
    "from tensorflow.keras.layers import Conv2D, MaxPooling2D, Flatten, Dense\n",
    "import matplotlib.pyplot as plt\n"
   ]
  },
  {
   "cell_type": "code",
   "execution_count": null,
   "metadata": {},
   "outputs": [],
   "source": [
    "# Function to load images from a folder (limited to 100 images)\n",
    "def load_images_from_folder(folder, max_images=100):\n",
    "    images = []\n",
    "    labels = []\n",
    "    count = 0\n",
    "    print(f\"Loading images from {folder}...\")\n",
    "    for subdir, _, files in os.walk(folder):\n",
    "        for filename in files:\n",
    "            if filename.endswith(('.jpg', '.jpeg', '.png')) and count < max_images:\n",
    "                label = 1 if 'occupied' in filename else 0\n",
    "                img = cv2.imread(os.path.join(subdir, filename))\n",
    "                if img is not None:\n",
    "                    img = cv2.resize(img, (64, 64))\n",
    "                    images.append(img)\n",
    "                    labels.append(label)\n",
    "                    count += 1\n",
    "            if count >= max_images:\n",
    "                break\n",
    "    print(f\"Total images loaded: {len(images)}\")\n",
    "    return np.array(images), np.array(labels)\n",
    "\n",
    "# Replace with the path to your dataset\n",
    "dataset_path = '/kaggle/input/pklot-dataset'\n",
    "images, labels = load_images_from_folder(dataset_path, max_images=100)\n",
    "\n",
    "# Normalize the images\n",
    "images = images / 255.0\n",
    "\n",
    "# Split the dataset into training and testing sets\n",
    "X_train, X_test, y_train, y_test = train_test_split(images, labels, test_size=0.2, random_state=42)\n"
   ]
  },
  {
   "cell_type": "code",
   "execution_count": null,
   "metadata": {},
   "outputs": [],
   "source": [
    "# Build the CNN model\n",
    "model = Sequential([\n",
    "    Conv2D(32, (3, 3), activation='relu', input_shape=(64, 64, 3)),\n",
    "    MaxPooling2D(pool_size=(2, 2)),\n",
    "    Conv2D(64, (3, 3), activation='relu'),\n",
    "    MaxPooling2D(pool_size=(2, 2)),\n",
    "    Conv2D(128, (3, 3), activation='relu'),\n",
    "    MaxPooling2D(pool_size=(2, 2)),\n",
    "    Flatten(),\n",
    "    Dense(128, activation='relu'),\n",
    "    Dense(1, activation='sigmoid')\n",
    "])\n",
    "\n",
    "model.compile(optimizer='adam', loss='binary_crossentropy', metrics=['accuracy'])\n",
    "model.summary()\n"
   ]
  },
  {
   "cell_type": "code",
   "execution_count": null,
   "metadata": {},
   "outputs": [],
   "source": [
    "# Train the model\n",
    "history = model.fit(X_train, y_train, epochs=10, validation_split=0.2, batch_size=32)\n"
   ]
  },
  {
   "cell_type": "code",
   "execution_count": null,
   "metadata": {},
   "outputs": [],
   "source": [
    "# Evaluate the model\n",
    "loss, accuracy = model.evaluate(X_test, y_test)\n",
    "print(f'Test Accuracy: {accuracy*100:.2f}%')\n",
    "\n",
    "# Plot training history\n",
    "plt.plot(history.history['accuracy'], label='accuracy')\n",
    "plt.plot(history.history['val_accuracy'], label='val_accuracy')\n",
    "plt.xlabel('Epoch')\n",
    "plt.ylabel('Accuracy')\n",
    "plt.ylim([0, 1])\n",
    "plt.legend(loc='lower right')\n",
    "plt.show()\n"
   ]
  },
  {
   "cell_type": "code",
   "execution_count": null,
   "metadata": {},
   "outputs": [],
   "source": [
    "# Save the model\n",
    "model.save('parking_occupancy_model.h5')\n"
   ]
  },
  {
   "cell_type": "code",
   "execution_count": null,
   "metadata": {},
   "outputs": [],
   "source": [
    "# Load and use the model for prediction\n",
    "def predict_parking_occupancy(image_path):\n",
    "    img = cv2.imread(image_path)\n",
    "    if img is None:\n",
    "        print(f\"Error: Unable to read image at {image_path}\")\n",
    "        return \"Invalid Image\"\n",
    "    img = cv2.resize(img, (64, 64))\n",
    "    img = np.expand_dims(img, axis=0) / 255.0\n",
    "    prediction = model.predict(img)\n",
    "    return 'Occupied' if prediction > 0.5 else 'Empty'\n",
    "\n",
    "# Example usage with a valid image path\n",
    "valid_image_path = '/kaggle/input/pklot-dataset/valid/2012-12-22_19_20_16_jpg.rf.5488350455fd1ae49f8864d2027e4161.jpg'\n",
    "print(predict_parking_occupancy(valid_image_path))\n"
   ]
  }
 ],
 "metadata": {
  "kernelspec": {
   "display_name": "Python 3",
   "language": "python",
   "name": "python3"
  },
  "language_info": {
   "codemirror_mode": {
    "name": "ipython",
    "version": 3
   },
   "file_extension": ".py",
   "mimetype": "text/x-python",
   "name": "python",
   "nbconvert_exporter": "python",
   "pygments_lexer": "ipython3",
   "version": "3.8.5"
  }
 },
 "nbformat": 4,
 "nbformat_minor": 4
}
